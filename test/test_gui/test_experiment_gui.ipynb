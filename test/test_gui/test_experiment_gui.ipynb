{
 "cells": [
  {
   "cell_type": "code",
   "execution_count": 7,
   "metadata": {
    "pycharm": {
     "name": "#%%\n"
    }
   },
   "outputs": [],
   "source": [
    "%matplotlib inline\n",
    "import os\n",
    "import sys\n",
    "import importlib\n",
    "module_path = os.path.abspath(os.path.join('..', '..'))\n",
    "sys.path.insert(0, module_path)\n",
    "import cohesivm\n",
    "from cohesivm import gui\n",
    "_ = importlib.reload(gui)\n",
    "import test\n",
    "_ = importlib.reload(test)\n",
    "from test import test_gui\n",
    "_ = importlib.reload(test_gui)"
   ]
  },
  {
   "cell_type": "code",
   "execution_count": 8,
   "metadata": {
    "pycharm": {
     "name": "#%%\n"
    }
   },
   "outputs": [],
   "source": [
    "db = cohesivm.database.Database('test_experiment_gui.h5')\n",
    "interface = test_gui.DemoInterface()\n",
    "measurement = test_gui.DemoMeasurement()\n",
    "device = test.DemoDevice()\n",
    "\n",
    "experiment = cohesivm.experiment.Experiment(\n",
    "    database=db,\n",
    "    device=device,\n",
    "    measurement=measurement,\n",
    "    interface=interface,\n",
    "    sample_id='test',\n",
    "    selected_contacts=['11', '12', '22']\n",
    ")"
   ]
  },
  {
   "cell_type": "code",
   "execution_count": 9,
   "metadata": {
    "pycharm": {
     "is_executing": true,
     "name": "#%%\n"
    }
   },
   "outputs": [
    {
     "data": {
      "application/vnd.jupyter.widget-view+json": {
       "model_id": "d4042fe048a6412aa189485732662427",
       "version_major": 2,
       "version_minor": 0
      },
      "text/plain": [
       "HBox(children=(HTML(value='<style>\\n.column-heading {\\n    background-color: #007bff;\\n    padding: 12px 15px;…"
      ]
     },
     "metadata": {},
     "output_type": "display_data"
    },
    {
     "name": "stderr",
     "output_type": "stream",
     "text": [
      "Exception in thread Thread-5 (_update_widget):\n",
      "Traceback (most recent call last):\n",
      "  File \"C:\\Users\\WolfMa\\AppData\\Local\\Programs\\Python\\Python312\\Lib\\threading.py\", line 1073, in _bootstrap_inner\n",
      "    self.run()\n",
      "  File \"C:\\Users\\WolfMa\\pyenvs\\base\\Lib\\site-packages\\ipykernel\\ipkernel.py\", line 761, in run_closure\n",
      "    _threading_Thread_run(self)\n",
      "  File \"C:\\Users\\WolfMa\\AppData\\Local\\Programs\\Python\\Python312\\Lib\\threading.py\", line 1010, in run\n",
      "    self._target(*self._args, **self._kwargs)\n",
      "  File \"C:\\Users\\WolfMa\\Documents\\Dissertation\\Control Software\\cohesivm\\cohesivm\\gui.py\", line 334, in _update_widget\n",
      "    self._update_plot_frame()\n",
      "  File \"C:\\Users\\WolfMa\\Documents\\Dissertation\\Control Software\\cohesivm\\cohesivm\\gui.py\", line 293, in _update_plot_frame\n",
      "    elif self.current_contact != self.experiment.selected_contacts[self.experiment.current_contact_idx]:\n",
      "                                 ~~~~~~~~~~~~~~~~~~~~~~~~~~~~~~~~~^^^^^^^^^^^^^^^^^^^^^^^^^^^^^^^^^^^^^\n",
      "IndexError: list index out of range\n"
     ]
    }
   ],
   "source": [
    "plot = cohesivm.gui.XYDataStreamPlot('a', 'b')\n",
    "experiment_gui = gui.ExperimentGUI(experiment=experiment, plot=plot)\n",
    "experiment_gui.display()"
   ]
  },
  {
   "cell_type": "code",
   "execution_count": null,
   "metadata": {},
   "outputs": [],
   "source": []
  }
 ],
 "metadata": {
  "kernelspec": {
   "display_name": "Python 3 (ipykernel)",
   "language": "python",
   "name": "python3"
  },
  "language_info": {
   "codemirror_mode": {
    "name": "ipython",
    "version": 3
   },
   "file_extension": ".py",
   "mimetype": "text/x-python",
   "name": "python",
   "nbconvert_exporter": "python",
   "pygments_lexer": "ipython3",
   "version": "3.12.2"
  }
 },
 "nbformat": 4,
 "nbformat_minor": 4
}
