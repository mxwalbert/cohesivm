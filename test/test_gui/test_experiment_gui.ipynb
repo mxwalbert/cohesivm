{
 "cells": [
  {
   "cell_type": "code",
   "execution_count": 1,
   "metadata": {
    "pycharm": {
     "name": "#%%\n"
    }
   },
   "outputs": [],
   "source": [
    "%matplotlib inline\n",
    "import os\n",
    "import sys\n",
    "import importlib\n",
    "module_path = os.path.abspath(os.path.join('../..'))\n",
    "if module_path not in sys.path:\n",
    "    sys.path.insert(1, module_path)\n",
    "import cohesivm\n",
    "from cohesivm import gui\n",
    "_ = importlib.reload(gui)\n",
    "import test\n",
    "_ = importlib.reload(test)\n",
    "from test import test_gui\n",
    "_ = importlib.reload(test_gui)"
   ]
  },
  {
   "cell_type": "code",
   "execution_count": 2,
   "metadata": {
    "pycharm": {
     "name": "#%%\n"
    }
   },
   "outputs": [],
   "source": [
    "db = cohesivm.database.Database('test_gui.h5')\n",
    "interface = test_gui.DemoInterface()\n",
    "measurement = test_gui.DemoMeasurement()\n",
    "\n",
    "experiment = cohesivm.experiment.Experiment(\n",
    "    database=db,\n",
    "    device=test.DemoDevice(),\n",
    "    measurement=measurement,\n",
    "    interface=interface,\n",
    "    sample_id='test',\n",
    "    selected_pixels=['11', '12', '22']\n",
    ")"
   ]
  },
  {
   "cell_type": "code",
   "execution_count": 3,
   "metadata": {
    "pycharm": {
     "is_executing": true,
     "name": "#%%\n"
    },
    "scrolled": false
   },
   "outputs": [],
   "source": [
    "plot = cohesivm.plots.XYDataStreamPlot('a', 'b')\n",
    "gui = gui.ExperimentGUI(experiment=experiment, plot=plot)"
   ]
  },
  {
   "cell_type": "code",
   "execution_count": 4,
   "metadata": {
    "pycharm": {
     "name": "#%%\n"
    }
   },
   "outputs": [
    {
     "data": {
      "application/vnd.jupyter.widget-view+json": {
       "model_id": "194d64d9a5074b1b89361a5331041389",
       "version_major": 2,
       "version_minor": 0
      },
      "text/plain": [
       "HBox(children=(HTML(value='<style>\\n.column-heading {\\n    background-color: #007bff;\\n    padding: 12px 15px;…"
      ]
     },
     "metadata": {},
     "output_type": "display_data"
    }
   ],
   "source": [
    "gui.display()"
   ]
  },
  {
   "cell_type": "code",
   "execution_count": null,
   "metadata": {},
   "outputs": [],
   "source": [
    "assert False"
   ]
  },
  {
   "cell_type": "code",
   "execution_count": null,
   "metadata": {
    "pycharm": {
     "name": "#%%\n"
    }
   },
   "outputs": [],
   "source": [
    "os.remove(db.path)"
   ]
  },
  {
   "cell_type": "code",
   "execution_count": null,
   "metadata": {},
   "outputs": [],
   "source": []
  }
 ],
 "metadata": {
  "kernelspec": {
   "display_name": "Python 3 (ipykernel)",
   "language": "python",
   "name": "python3"
  },
  "language_info": {
   "codemirror_mode": {
    "name": "ipython",
    "version": 3
   },
   "file_extension": ".py",
   "mimetype": "text/x-python",
   "name": "python",
   "nbconvert_exporter": "python",
   "pygments_lexer": "ipython3",
   "version": "3.9.7"
  }
 },
 "nbformat": 4,
 "nbformat_minor": 1
}
